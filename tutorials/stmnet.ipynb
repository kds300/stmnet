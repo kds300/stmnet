{
 "cells": [
  {
   "cell_type": "markdown",
   "metadata": {},
   "source": [
    "# STMNet Tutorial\n",
    "\n",
    "This notebook demonstrates running a simple Spike Template Matching Network (STMNet).\n",
    "STMNet is implemented using the Lava software framework for neuromorphic computing.\n",
    "Lava can be downloaded [on github](https://github.com/lava-nc/lava) and the docs can be found at [lava-nc.org](https://lava-nc.org).\n"
   ]
  },
  {
   "cell_type": "code",
   "execution_count": 1,
   "metadata": {},
   "outputs": [],
   "source": [
    "import logging\n",
    "logging.basicConfig(level=logging.INFO)\n",
    "\n",
    "import numpy as np\n",
    "import matplotlib.pyplot as plt\n",
    "from lava.magma.core.run_configs import Loihi2SimCfg\n",
    "from lava.magma.core.run_conditions import RunSteps\n",
    "\n",
    "import stmnet.network as network\n",
    "import stmnet.configuration as config\n",
    "import stmnet.proc as proc\n",
    "import stmnet.io as stmio"
   ]
  },
  {
   "cell_type": "markdown",
   "metadata": {},
   "source": [
    "## Defining the Network\n",
    "\n",
    "The STMNet requires a Network Description, which defines the architecture of the network.\n",
    "A network description contains three parts:\n",
    "\n",
    "- Feature detector key\n",
    "- Binary detector key\n",
    "- Spike templates\n",
    "\n",
    "### Feature detector key\n",
    "\n",
    "A dict containing integer keys and string values.\n",
    "The keys define the order of the feature detectors.\n",
    "The values are the corresponding names of the detectors.\n",
    "\n",
    "### Binary detector key\n",
    "\n",
    "A dict containing integer keys and string values.\n",
    "The keys define the order of the binary detectors.\n",
    "The values are the corresponding names of the detectors.\n",
    "\n",
    "### Spike Templates\n",
    "\n",
    "A dict containing the spike sequences.\n",
    "The keys are the names of the templates.\n",
    "Each value is a dict containing the keys `onset` and `offset`.\n",
    "For each key, the corresponding spike template is provided as a list of index, time pairs.\n",
    "The indices correspond to the keys of the feature detector key.\n",
    "The times are the spike time for the given detector in the template.\n"
   ]
  },
  {
   "cell_type": "code",
   "execution_count": 2,
   "metadata": {},
   "outputs": [],
   "source": [
    "# define network architecture\n",
    "\n",
    "network_description = network.NetworkDescription(\n",
    "    feature_detectors={\n",
    "        0: \"a.b-c.0.0.0.0.spectrogram.NoMask\",\n",
    "        1: \"a.b-c.0.0.1.0.spectrogram.NoMask\",\n",
    "        2: \"a.b-c.0.0.2.0.spectrogram.NoMask\",\n",
    "        3: \"a.b-c.0.0.3.0.spectrogram.NoMask\",\n",
    "        4: \"a.b-c.0.0.4.0.spectrogram.NoMask\",\n",
    "        5: \"b.a-c.0.0.0.0.spectrogram.NoMask\",\n",
    "        6: \"b.a-c.0.0.1.0.spectrogram.NoMask\",\n",
    "        7: \"b.a-c.0.0.2.0.spectrogram.NoMask\",\n",
    "        8: \"b.a-c.0.0.3.0.spectrogram.NoMask\",\n",
    "        9: \"c.a-b.0.0.0.0.spectrogram.NoMask\"\n",
    "    },\n",
    "    binary_detectors={\n",
    "        0: \"a.b.2.0.0.spectrogram.0-0-0-0\",\n",
    "        1: \"a.c.2.0.0.spectrogram.0-0-0-0\",\n",
    "        2: \"b.c.2.0.0.spectrogram.0-0-0-0\"\n",
    "    },\n",
    "    templates={\n",
    "        \"a.b-c.0.1\": {\n",
    "            \"onset\": [[0, 1], [1, 2], [2, 3], [3, 4], [4, 5],],\n",
    "            \"offset\": [[0, 1], [1, 2], [2, 3], [3, 4], [4, 5],]\n",
    "        },\n",
    "        \"a.b-c.0.2\": {\n",
    "            \"onset\": [[0, 1], [1, 1], [2, 3], [3, 4], [4, 6],],\n",
    "            \"offset\": [[0, 1], [1, 1], [2, 3], [3, 4], [4, 6],]\n",
    "        },\n",
    "        \"b.a-c.0.1\": {\n",
    "            \"onset\": [[5, 1], [6, 2], [7, 3], [8, 4],],\n",
    "            \"offset\": [[5, 1], [6, 2], [7, 3], [8, 4],]\n",
    "        },\n",
    "        \"b.a-c.0.2\": {\n",
    "            \"onset\": [[5, 1], [6, 1], [7, 3], [8, 3],],\n",
    "            \"offset\": [[5, 1], [6, 1], [7, 3], [8, 3],]\n",
    "        },\n",
    "        \"c.a-b.0.1\": {\n",
    "            \"onset\": [[9, 1],],\n",
    "            \"offset\": [[9, 1],]\n",
    "        },\n",
    "        \"c.a-b.0.2\": {\n",
    "            \"onset\": [[9, 1],],\n",
    "            \"offset\": [[9, 1],]\n",
    "        },\n",
    "    }\n",
    ")"
   ]
  },
  {
   "cell_type": "markdown",
   "metadata": {},
   "source": [
    "We can view the network description using it's `print()` method:"
   ]
  },
  {
   "cell_type": "code",
   "execution_count": 3,
   "metadata": {},
   "outputs": [
    {
     "name": "stdout",
     "output_type": "stream",
     "text": [
      "Network Description\n",
      "-------------------\n",
      "Feature Detectors:\n",
      "   0: a.b-c.0.0.0.0.spectrogram.NoMask\n",
      "   1: a.b-c.0.0.1.0.spectrogram.NoMask\n",
      "   2: a.b-c.0.0.2.0.spectrogram.NoMask\n",
      "   3: a.b-c.0.0.3.0.spectrogram.NoMask\n",
      "   4: a.b-c.0.0.4.0.spectrogram.NoMask\n",
      "   5: b.a-c.0.0.0.0.spectrogram.NoMask\n",
      "   6: b.a-c.0.0.1.0.spectrogram.NoMask\n",
      "   7: b.a-c.0.0.2.0.spectrogram.NoMask\n",
      "   8: b.a-c.0.0.3.0.spectrogram.NoMask\n",
      "   9: c.a-b.0.0.0.0.spectrogram.NoMask\n",
      "Binary Detectors:\n",
      "   0: a.b.2.0.0.spectrogram.0-0-0-0\n",
      "   1: a.c.2.0.0.spectrogram.0-0-0-0\n",
      "   2: b.c.2.0.0.spectrogram.0-0-0-0\n",
      "Templates:\n",
      "  a.b-c.0.1:\n",
      "     Onset: [0, 1], [1, 2], [2, 3], [3, 4], [4, 5]\n",
      "    Offset: [0, 1], [1, 2], [2, 3], [3, 4], [4, 5]\n",
      "  a.b-c.0.2:\n",
      "     Onset: [0, 1], [1, 1], [2, 3], [3, 4], [4, 6]\n",
      "    Offset: [0, 1], [1, 1], [2, 3], [3, 4], [4, 6]\n",
      "  b.a-c.0.1:\n",
      "     Onset: [5, 1], [6, 2], [7, 3], [8, 4]\n",
      "    Offset: [5, 1], [6, 2], [7, 3], [8, 4]\n",
      "  b.a-c.0.2:\n",
      "     Onset: [5, 1], [6, 1], [7, 3], [8, 3]\n",
      "    Offset: [5, 1], [6, 1], [7, 3], [8, 3]\n",
      "  c.a-b.0.1:\n",
      "     Onset: [9, 1]\n",
      "    Offset: [9, 1]\n",
      "  c.a-b.0.2:\n",
      "     Onset: [9, 1]\n",
      "    Offset: [9, 1]\n"
     ]
    }
   ],
   "source": [
    "network_description.print()"
   ]
  },
  {
   "cell_type": "markdown",
   "metadata": {},
   "source": [
    "## Defining the Input\n",
    "\n",
    "The spike input defines the data which will be run through the STMNet during recogntion.\n",
    "The Lava CPU code is built using RingBuffers for the input, storing the spikes as NumPy arrays where\n",
    "$$\n",
    "s[i, t] = \\{ 1 \\textrm{ if input i has spike at time t, else } 0\\}.\n",
    "$$\n",
    "\n",
    "However, it is much more convenient to think of the spike input as a dictionary containing lists of spike times for each input.\n",
    "This can then be converted to the spike array when needed.\n",
    "Remember that each input needs a spike time list for both `onset` and `offset` spikes.\n",
    "\n",
    "We also will need to provide the number of timesteps for the network to run.\n",
    "\n",
    "The `input_key` is used to map the feature and binary inputs to the appropriate templates / neurons.\n",
    "The current setup assumes that templates have names of the form `{a}.{other-stuff}`,\n",
    "where 'a' is the category it recognizes.\n",
    "The feature detectors are named similarly, with the corresponding category of he feature.\n",
    "The binary detectors are named `{a}.{b}.{other-stuff}`, signifying the detector is trained to recognize category 'a' and not category 'b'."
   ]
  },
  {
   "cell_type": "code",
   "execution_count": 4,
   "metadata": {},
   "outputs": [],
   "source": [
    "# binary detectors only need onset\n",
    "input_spikes = {\n",
    "    \"onset\": {\n",
    "        0: [11, 51],\n",
    "        1: [12, 52],\n",
    "        2: [13, 53],\n",
    "        3: [14, 54],\n",
    "        4: [15, 55],\n",
    "        5: [26, 51],\n",
    "        6: [27, 52],\n",
    "        7: [28, 53],\n",
    "        8: [29, 54],\n",
    "        9: [45],\n",
    "        10: [11, 13, 15, 16, 19, 21, 51, 53, 55, 56, 59, 61],\n",
    "        11: [26, 28, 30, 31, 33],\n",
    "        12: [1, 2, 3, 5, 8, 13, 21, 46]\n",
    "    },\n",
    "    \"offset\": {\n",
    "        0: [21, 61],\n",
    "        1: [22, 62],\n",
    "        2: [23, 63],\n",
    "        3: [24, 64],\n",
    "        4: [25, 65],\n",
    "        5: [36, 61],\n",
    "        6: [37, 62],\n",
    "        7: [39, 63],\n",
    "        8: [39, 64],\n",
    "        9: [47],\n",
    "    },\n",
    "    \"detector_names\": [\n",
    "        \"a.b-c.0.0.0.0.spectrogram.NoMask\",\n",
    "        \"a.b-c.0.0.1.0.spectrogram.NoMask\",\n",
    "        \"a.b-c.0.0.2.0.spectrogram.NoMask\",\n",
    "        \"a.b-c.0.0.3.0.spectrogram.NoMask\",\n",
    "        \"a.b-c.0.0.4.0.spectrogram.NoMask\",\n",
    "        \"b.a-c.0.0.0.0.spectrogram.NoMask\",\n",
    "        \"b.a-c.0.0.1.0.spectrogram.NoMask\",\n",
    "        \"b.a-c.0.0.2.0.spectrogram.NoMask\",\n",
    "        \"b.a-c.0.0.3.0.spectrogram.NoMask\",\n",
    "        \"c.a-b.0.0.0.0.spectrogram.NoMask\",\n",
    "        \"a.b.2.0.0.spectrogram.0-0-0-0\",\n",
    "        \"a.c.2.0.0.spectrogram.0-0-0-0\",\n",
    "        \"b.c.2.0.0.spectrogram.0-0-0-0\"\n",
    "    ]\n",
    "}\n",
    "\n",
    "input_key = (\n",
    "    [det.split('.')[0] for det in network_description.feature_detectors.values()]\n",
    "    + [\n",
    "        '.'.join(det.split('.')[0:2])\n",
    "        for det in network_description.binary_detectors.values()\n",
    "    ]\n",
    ")\n",
    "\n",
    "\n",
    "n_timesteps = 70"
   ]
  },
  {
   "cell_type": "markdown",
   "metadata": {},
   "source": [
    "# Building the Network\n",
    "\n",
    "In order to build the network, we must also provide a config.\n",
    "This config defines the various parameters of the network.\n",
    "For the demo, we will use the default parameters provided with `stmnet`."
   ]
  },
  {
   "cell_type": "code",
   "execution_count": 5,
   "metadata": {},
   "outputs": [],
   "source": [
    "# use the default configuration\n",
    "cfg = config.default_tmn_config()"
   ]
  },
  {
   "cell_type": "code",
   "execution_count": 6,
   "metadata": {},
   "outputs": [],
   "source": [
    "# build the base template matching network\n",
    "stmnet = network.TemplateMatchingNetwork(\n",
    "    network_description.feature_detectors,\n",
    "    network_description.templates,\n",
    "    network_description.binary_detectors,\n",
    "    cfg\n",
    ")\n",
    "\n",
    "stmnet.build_network()"
   ]
  },
  {
   "cell_type": "code",
   "execution_count": 7,
   "metadata": {},
   "outputs": [],
   "source": [
    "# add the binary module\n",
    "bpn = network.BinaryPredictionNetwork(\n",
    "    list(network_description.templates),\n",
    "    list(network_description.binary_detectors.values()),\n",
    "    cfg,\n",
    "    stmnet.max_onset_delay\n",
    ")\n",
    "\n",
    "bpn.build_network()\n",
    "bpn.connect_to_template_matching_network(stmnet)\n"
   ]
  },
  {
   "cell_type": "code",
   "execution_count": 8,
   "metadata": {},
   "outputs": [],
   "source": [
    "# set up the inputs\n",
    "n_inputs = {\n",
    "    \"onset\": (\n",
    "        len(network_description.feature_ids)\n",
    "        + len(network_description.binary_ids)\n",
    "    ),\n",
    "    \"offset\": len(network_description.feature_ids)\n",
    "}\n",
    "runtime = n_timesteps + cfg.meta.runtime_buffer\n",
    "\n",
    "input_arrs = {\n",
    "    \"onset\": np.zeros(shape=(n_inputs[\"onset\"], runtime)),\n",
    "    \"offset\": np.zeros(shape=(n_inputs[\"offset\"], runtime))\n",
    "}\n",
    "for onoff in [\"onset\", \"offset\"]:\n",
    "    for feat_idx, feat_spikes in input_spikes[onoff].items():\n",
    "        for time in feat_spikes:\n",
    "            input_arrs[onoff][feat_idx, time] = 1\n",
    "\n",
    "# create Lava spike inputs\n",
    "spike_generators = {}\n",
    "spike_generators[\"onset\"] = stmio.SpikeInputLayer(data=input_arrs[\"onset\"])\n",
    "spike_generators[\"offset\"] = stmio.SpikeInputLayer(data=input_arrs[\"offset\"])\n"
   ]
  },
  {
   "cell_type": "code",
   "execution_count": 9,
   "metadata": {},
   "outputs": [],
   "source": [
    "# set up the output\n",
    "spike_receiver = proc.SpikeOut(\n",
    "    shape=stmnet.DecisionLayer.s_out.shape,\n",
    "    buffer=runtime\n",
    ")"
   ]
  },
  {
   "cell_type": "code",
   "execution_count": 10,
   "metadata": {},
   "outputs": [],
   "source": [
    "# connect IO to the network\n",
    "for onoff in [\"onset\", \"offset\"]:\n",
    "    stmnet.connect_input_layer(spike_generators[onoff].s_out, onoff)\n",
    "    stmnet.connect_output_layer(spike_receiver.a_in)\n",
    "bpn.connect_to_input_layer(spike_generators, input_key)"
   ]
  },
  {
   "cell_type": "markdown",
   "metadata": {},
   "source": [
    "## Running the Network\n",
    "\n",
    "With the network built, we can now run it like any other Lava network.\n",
    "We will use the `Loihi2SimCfg` to run the network on a CPU."
   ]
  },
  {
   "cell_type": "code",
   "execution_count": 11,
   "metadata": {},
   "outputs": [],
   "source": [
    "spike_generators[\"onset\"].run(\n",
    "    RunSteps(num_steps=runtime),\n",
    "    run_cfg=Loihi2SimCfg(\n",
    "        loglevel=logging.INFO,\n",
    "        select_tag=\"fixed_pt\"\n",
    "    ),\n",
    ")\n",
    "\n",
    "decision_data = spike_receiver.data.get()\n",
    "\n",
    "spike_generators[\"onset\"].stop()"
   ]
  },
  {
   "cell_type": "markdown",
   "metadata": {},
   "source": [
    "## Plotting the Results\n",
    "\n",
    "We can see that the output spike pattern correctly identifies the input, \"a, b, c, a\".\n",
    "On the second occurrence of \"a\", the binary detectors resolve the confusion between \"a\" and \"b\"."
   ]
  },
  {
   "cell_type": "code",
   "execution_count": 12,
   "metadata": {},
   "outputs": [
    {
     "data": {
      "image/png": "[encoded data removed]",
      "text/plain": [
       "<Figure size 600x400 with 2 Axes>"
      ]
     },
     "metadata": {},
     "output_type": "display_data"
    }
   ],
   "source": [
    "# create output raster\n",
    "decision_raster = [\n",
    "    np.nonzero(row)[0] for row in decision_data\n",
    "]\n",
    "\n",
    "# plot the inputs and outputs together\n",
    "fig, axs = plt.subplots(\n",
    "    2, 1, figsize=(6, 4), sharex=True, layout=\"constrained\"\n",
    ")\n",
    "\n",
    "ax: plt.Axes = axs[0]\n",
    "ax.set_title(\"Input Spikes\")\n",
    "ax.set_ylabel(\"Input Index\")\n",
    "ax.axhline(\n",
    "    y=len(network_description.feature_ids) - 0.5,\n",
    "    color=\"lightgray\", linestyle=\"dashed\"\n",
    ")\n",
    "_on = ax.eventplot(list(input_spikes[\"onset\"].values()), label=\"onset\")\n",
    "_off = ax.eventplot(\n",
    "    list(input_spikes[\"offset\"].values()), label=\"offset\", color=\"tab:red\"\n",
    ")\n",
    "ax.legend(\n",
    "    [_on[0], _off[0]], [_on[0].get_label(), _off[0].get_label()],\n",
    "    loc=\"lower right\"\n",
    ")\n",
    "\n",
    "ax = axs[1]\n",
    "ax.set_title(\"Output Spikes\")\n",
    "ax.set_ylabel(\"output Index\")\n",
    "ax.eventplot(decision_raster)\n",
    "\n",
    "plt.show()"
   ]
  },
  {
   "cell_type": "code",
   "execution_count": null,
   "metadata": {},
   "outputs": [],
   "source": []
  }
 ],
 "metadata": {
  "kernelspec": {
   "display_name": ".venv",
   "language": "python",
   "name": "python3"
  },
  "language_info": {
   "codemirror_mode": {
    "name": "ipython",
    "version": 3
   },
   "file_extension": ".py",
   "mimetype": "text/x-python",
   "name": "python",
   "nbconvert_exporter": "python",
   "pygments_lexer": "ipython3",
   "version": "3.10.14"
  }
 },
 "nbformat": 4,
 "nbformat_minor": 2
}
